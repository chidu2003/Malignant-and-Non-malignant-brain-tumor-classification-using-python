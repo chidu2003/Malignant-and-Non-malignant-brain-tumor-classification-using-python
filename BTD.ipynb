{
 "cells": [
  {
   "cell_type": "code",
   "execution_count": 1,
   "metadata": {},
   "outputs": [],
   "source": [
    "import tensorflow as tf\n",
    "import keras\n",
    "from keras.models import Sequential\n",
    "from keras.layers import Conv2D\n",
    "from keras.layers import MaxPooling2D\n",
    "from keras.layers import Flatten\n",
    "from keras.layers import Dense"
   ]
  },
  {
   "cell_type": "code",
   "execution_count": 2,
   "metadata": {},
   "outputs": [],
   "source": [
    "classifier = Sequential()\n",
    "\n",
    "classifier.add(Conv2D(32, (3, 3), input_shape = (64, 64, 3), activation = 'relu'))"
   ]
  },
  {
   "cell_type": "code",
   "execution_count": 3,
   "metadata": {},
   "outputs": [
    {
     "name": "stdout",
     "output_type": "stream",
     "text": [
      "Model: \"sequential\"\n",
      "_________________________________________________________________\n",
      " Layer (type)                Output Shape              Param #   \n",
      "=================================================================\n",
      " conv2d (Conv2D)             (None, 62, 62, 32)        896       \n",
      "                                                                 \n",
      " max_pooling2d (MaxPooling2D  (None, 31, 31, 32)       0         \n",
      " )                                                               \n",
      "                                                                 \n",
      " conv2d_1 (Conv2D)           (None, 29, 29, 32)        9248      \n",
      "                                                                 \n",
      " max_pooling2d_1 (MaxPooling  (None, 14, 14, 32)       0         \n",
      " 2D)                                                             \n",
      "                                                                 \n",
      " flatten (Flatten)           (None, 6272)              0         \n",
      "                                                                 \n",
      " dense (Dense)               (None, 128)               802944    \n",
      "                                                                 \n",
      " dense_1 (Dense)             (None, 1)                 129       \n",
      "                                                                 \n",
      "=================================================================\n",
      "Total params: 813,217\n",
      "Trainable params: 813,217\n",
      "Non-trainable params: 0\n",
      "_________________________________________________________________\n"
     ]
    }
   ],
   "source": [
    "classifier.add(MaxPooling2D(pool_size = (2, 2)))\n",
    "\n",
    "classifier.add(Conv2D(32, (3, 3), activation = 'relu'))\n",
    "classifier.add(MaxPooling2D(pool_size = (2, 2)))\n",
    "\n",
    "classifier.add(Flatten())\n",
    "\n",
    "classifier.add(Dense(activation = 'relu',units=128))\n",
    "classifier.add(Dense(activation = 'sigmoid',units=1))\n",
    "\n",
    "classifier.compile(optimizer = 'adam', loss = 'binary_crossentropy', metrics = ['accuracy'])\n",
    "\n",
    "classifier.summary()"
   ]
  },
  {
   "cell_type": "code",
   "execution_count": 4,
   "metadata": {},
   "outputs": [],
   "source": [
    "from keras.preprocessing.image import ImageDataGenerator\n",
    "\n",
    "train_datagen = ImageDataGenerator(rescale = 1./255,\n",
    "                                   shear_range = 0.2,\n",
    "                                   zoom_range = 0.2,\n",
    "                                   horizontal_flip = True)\n",
    "\n",
    "test_datagen = ImageDataGenerator(rescale = 1./255)\n"
   ]
  },
  {
   "cell_type": "code",
   "execution_count": 5,
   "metadata": {},
   "outputs": [
    {
     "name": "stdout",
     "output_type": "stream",
     "text": [
      "C:\\PROJECT\\code\\Brain_tumor\n"
     ]
    }
   ],
   "source": [
    "import os \n",
    "os.getcwd()\n",
    "os.chdir('C:/PROJECT/code/Brain_tumor')\n",
    "print(os.getcwd())"
   ]
  },
  {
   "cell_type": "code",
   "execution_count": 6,
   "metadata": {},
   "outputs": [
    {
     "name": "stdout",
     "output_type": "stream",
     "text": [
      "Found 22 images belonging to 2 classes.\n",
      "Found 7 images belonging to 2 classes.\n"
     ]
    }
   ],
   "source": [
    "training_set = train_datagen.flow_from_directory('C:/PROJECT/code/Brain_tumor/train/',\n",
    "                                                 target_size = (64, 64),\n",
    "                                                 batch_size = 32,\n",
    "                                                 class_mode = 'binary')\n",
    "\n",
    "test_set = test_datagen.flow_from_directory('C:\\PROJECT/code/Brain_tumor/test/',\n",
    "                                            target_size = (64, 64),\n",
    "                                            batch_size = 32,\n",
    "                                            class_mode = 'binary')\n"
   ]
  },
  {
   "cell_type": "code",
   "execution_count": 7,
   "metadata": {},
   "outputs": [
    {
     "name": "stderr",
     "output_type": "stream",
     "text": [
      "C:\\Users\\chidu\\AppData\\Local\\Temp\\ipykernel_4144\\696810844.py:1: UserWarning: `Model.fit_generator` is deprecated and will be removed in a future version. Please use `Model.fit`, which supports generators.\n",
      "  history=classifier.fit_generator(training_set, steps_per_epoch=None, epochs=100, verbose=1, callbacks=None, validation_data=test_set, validation_steps=None, class_weight=None, max_queue_size=10, workers=1, use_multiprocessing=False, shuffle=True, initial_epoch=0)\n"
     ]
    },
    {
     "name": "stdout",
     "output_type": "stream",
     "text": [
      "Epoch 1/100\n",
      "1/1 [==============================] - 1s 1s/step - loss: 0.6955 - accuracy: 0.5000 - val_loss: 0.7554 - val_accuracy: 0.5714\n",
      "Epoch 2/100\n",
      "1/1 [==============================] - 0s 163ms/step - loss: 0.7671 - accuracy: 0.5909 - val_loss: 0.6871 - val_accuracy: 0.5714\n",
      "Epoch 3/100\n",
      "1/1 [==============================] - 0s 147ms/step - loss: 0.6536 - accuracy: 0.5909 - val_loss: 0.7724 - val_accuracy: 0.4286\n",
      "Epoch 4/100\n",
      "1/1 [==============================] - 0s 145ms/step - loss: 0.6773 - accuracy: 0.5000 - val_loss: 0.7859 - val_accuracy: 0.4286\n",
      "Epoch 5/100\n",
      "1/1 [==============================] - 0s 156ms/step - loss: 0.6668 - accuracy: 0.5455 - val_loss: 0.7568 - val_accuracy: 0.4286\n",
      "Epoch 6/100\n",
      "1/1 [==============================] - 0s 161ms/step - loss: 0.6036 - accuracy: 0.8636 - val_loss: 0.7297 - val_accuracy: 0.2857\n",
      "Epoch 7/100\n",
      "1/1 [==============================] - 0s 171ms/step - loss: 0.5830 - accuracy: 0.7273 - val_loss: 0.7137 - val_accuracy: 0.2857\n",
      "Epoch 8/100\n",
      "1/1 [==============================] - 0s 179ms/step - loss: 0.5982 - accuracy: 0.7727 - val_loss: 0.7101 - val_accuracy: 0.4286\n",
      "Epoch 9/100\n",
      "1/1 [==============================] - 0s 171ms/step - loss: 0.5711 - accuracy: 0.7273 - val_loss: 0.7420 - val_accuracy: 0.2857\n",
      "Epoch 10/100\n",
      "1/1 [==============================] - 0s 188ms/step - loss: 0.5661 - accuracy: 0.8182 - val_loss: 0.7727 - val_accuracy: 0.4286\n",
      "Epoch 11/100\n",
      "1/1 [==============================] - 0s 168ms/step - loss: 0.5718 - accuracy: 0.7727 - val_loss: 0.8487 - val_accuracy: 0.4286\n",
      "Epoch 12/100\n",
      "1/1 [==============================] - 0s 176ms/step - loss: 0.5152 - accuracy: 0.8182 - val_loss: 0.9647 - val_accuracy: 0.4286\n",
      "Epoch 13/100\n",
      "1/1 [==============================] - 0s 166ms/step - loss: 0.5661 - accuracy: 0.7273 - val_loss: 1.0210 - val_accuracy: 0.4286\n",
      "Epoch 14/100\n",
      "1/1 [==============================] - 0s 187ms/step - loss: 0.5066 - accuracy: 0.7273 - val_loss: 0.9738 - val_accuracy: 0.4286\n",
      "Epoch 15/100\n",
      "1/1 [==============================] - 0s 168ms/step - loss: 0.4486 - accuracy: 0.8636 - val_loss: 0.9810 - val_accuracy: 0.5714\n",
      "Epoch 16/100\n",
      "1/1 [==============================] - 0s 163ms/step - loss: 0.3745 - accuracy: 0.9091 - val_loss: 0.9806 - val_accuracy: 0.5714\n",
      "Epoch 17/100\n",
      "1/1 [==============================] - 0s 174ms/step - loss: 0.4695 - accuracy: 0.6818 - val_loss: 1.2024 - val_accuracy: 0.5714\n",
      "Epoch 18/100\n",
      "1/1 [==============================] - 0s 168ms/step - loss: 0.3641 - accuracy: 0.8636 - val_loss: 1.4940 - val_accuracy: 0.2857\n",
      "Epoch 19/100\n",
      "1/1 [==============================] - 0s 149ms/step - loss: 0.5891 - accuracy: 0.7273 - val_loss: 1.2270 - val_accuracy: 0.5714\n",
      "Epoch 20/100\n",
      "1/1 [==============================] - 0s 155ms/step - loss: 0.4157 - accuracy: 0.7727 - val_loss: 1.0280 - val_accuracy: 0.5714\n",
      "Epoch 21/100\n",
      "1/1 [==============================] - 0s 159ms/step - loss: 0.4717 - accuracy: 0.7727 - val_loss: 1.0244 - val_accuracy: 0.5714\n",
      "Epoch 22/100\n",
      "1/1 [==============================] - 0s 147ms/step - loss: 0.5336 - accuracy: 0.7273 - val_loss: 1.1306 - val_accuracy: 0.5714\n",
      "Epoch 23/100\n",
      "1/1 [==============================] - 0s 182ms/step - loss: 0.3355 - accuracy: 0.9091 - val_loss: 1.3187 - val_accuracy: 0.2857\n",
      "Epoch 24/100\n",
      "1/1 [==============================] - 0s 180ms/step - loss: 0.3302 - accuracy: 0.9545 - val_loss: 1.4132 - val_accuracy: 0.2857\n",
      "Epoch 25/100\n",
      "1/1 [==============================] - 0s 182ms/step - loss: 0.5276 - accuracy: 0.7273 - val_loss: 1.2153 - val_accuracy: 0.2857\n",
      "Epoch 26/100\n",
      "1/1 [==============================] - 0s 175ms/step - loss: 0.3359 - accuracy: 0.9091 - val_loss: 1.0026 - val_accuracy: 0.5714\n",
      "Epoch 27/100\n",
      "1/1 [==============================] - 0s 174ms/step - loss: 0.3456 - accuracy: 0.9091 - val_loss: 0.9149 - val_accuracy: 0.5714\n",
      "Epoch 28/100\n",
      "1/1 [==============================] - 0s 185ms/step - loss: 0.2990 - accuracy: 0.8636 - val_loss: 0.9064 - val_accuracy: 0.7143\n",
      "Epoch 29/100\n",
      "1/1 [==============================] - 0s 180ms/step - loss: 0.3481 - accuracy: 0.8182 - val_loss: 0.9225 - val_accuracy: 0.7143\n",
      "Epoch 30/100\n",
      "1/1 [==============================] - 0s 180ms/step - loss: 0.3311 - accuracy: 0.8636 - val_loss: 0.9847 - val_accuracy: 0.5714\n",
      "Epoch 31/100\n",
      "1/1 [==============================] - 0s 193ms/step - loss: 0.2741 - accuracy: 0.9091 - val_loss: 1.1621 - val_accuracy: 0.5714\n",
      "Epoch 32/100\n",
      "1/1 [==============================] - 0s 171ms/step - loss: 0.2162 - accuracy: 0.9545 - val_loss: 1.4005 - val_accuracy: 0.4286\n",
      "Epoch 33/100\n",
      "1/1 [==============================] - 0s 177ms/step - loss: 0.2793 - accuracy: 0.9091 - val_loss: 1.5076 - val_accuracy: 0.4286\n",
      "Epoch 34/100\n",
      "1/1 [==============================] - 0s 173ms/step - loss: 0.2522 - accuracy: 0.9545 - val_loss: 1.5230 - val_accuracy: 0.4286\n",
      "Epoch 35/100\n",
      "1/1 [==============================] - 0s 217ms/step - loss: 0.1777 - accuracy: 0.9545 - val_loss: 1.4787 - val_accuracy: 0.5714\n",
      "Epoch 36/100\n",
      "1/1 [==============================] - 0s 193ms/step - loss: 0.2633 - accuracy: 0.8182 - val_loss: 1.4357 - val_accuracy: 0.5714\n",
      "Epoch 37/100\n",
      "1/1 [==============================] - 0s 167ms/step - loss: 0.2880 - accuracy: 0.9091 - val_loss: 1.4136 - val_accuracy: 0.5714\n",
      "Epoch 38/100\n",
      "1/1 [==============================] - 0s 176ms/step - loss: 0.3119 - accuracy: 0.9091 - val_loss: 1.5567 - val_accuracy: 0.5714\n",
      "Epoch 39/100\n",
      "1/1 [==============================] - 0s 183ms/step - loss: 0.1890 - accuracy: 0.9545 - val_loss: 1.8953 - val_accuracy: 0.4286\n",
      "Epoch 40/100\n",
      "1/1 [==============================] - 0s 187ms/step - loss: 0.2757 - accuracy: 0.9091 - val_loss: 2.1936 - val_accuracy: 0.4286\n",
      "Epoch 41/100\n",
      "1/1 [==============================] - 0s 176ms/step - loss: 0.2823 - accuracy: 0.9091 - val_loss: 2.2377 - val_accuracy: 0.4286\n",
      "Epoch 42/100\n",
      "1/1 [==============================] - 0s 156ms/step - loss: 0.3726 - accuracy: 0.8182 - val_loss: 1.8985 - val_accuracy: 0.5714\n",
      "Epoch 43/100\n",
      "1/1 [==============================] - 0s 177ms/step - loss: 0.1426 - accuracy: 0.9545 - val_loss: 1.6913 - val_accuracy: 0.5714\n",
      "Epoch 44/100\n",
      "1/1 [==============================] - 0s 177ms/step - loss: 0.1680 - accuracy: 0.9545 - val_loss: 1.6452 - val_accuracy: 0.5714\n",
      "Epoch 45/100\n",
      "1/1 [==============================] - 0s 162ms/step - loss: 0.3108 - accuracy: 0.8182 - val_loss: 1.7593 - val_accuracy: 0.5714\n",
      "Epoch 46/100\n",
      "1/1 [==============================] - 0s 167ms/step - loss: 0.1943 - accuracy: 0.9091 - val_loss: 2.0300 - val_accuracy: 0.4286\n",
      "Epoch 47/100\n",
      "1/1 [==============================] - 0s 174ms/step - loss: 0.2223 - accuracy: 0.9091 - val_loss: 2.1374 - val_accuracy: 0.4286\n",
      "Epoch 48/100\n",
      "1/1 [==============================] - 0s 159ms/step - loss: 0.1942 - accuracy: 0.9545 - val_loss: 2.0003 - val_accuracy: 0.4286\n",
      "Epoch 49/100\n",
      "1/1 [==============================] - 0s 163ms/step - loss: 0.1636 - accuracy: 0.9545 - val_loss: 1.7471 - val_accuracy: 0.5714\n",
      "Epoch 50/100\n",
      "1/1 [==============================] - 0s 169ms/step - loss: 0.1289 - accuracy: 1.0000 - val_loss: 1.5627 - val_accuracy: 0.5714\n",
      "Epoch 51/100\n",
      "1/1 [==============================] - 0s 160ms/step - loss: 0.1482 - accuracy: 0.9545 - val_loss: 1.4794 - val_accuracy: 0.5714\n",
      "Epoch 52/100\n",
      "1/1 [==============================] - 0s 183ms/step - loss: 0.1768 - accuracy: 0.9091 - val_loss: 1.4515 - val_accuracy: 0.5714\n",
      "Epoch 53/100\n",
      "1/1 [==============================] - 0s 155ms/step - loss: 0.1794 - accuracy: 0.9545 - val_loss: 1.4882 - val_accuracy: 0.5714\n",
      "Epoch 54/100\n",
      "1/1 [==============================] - 0s 166ms/step - loss: 0.0854 - accuracy: 1.0000 - val_loss: 1.5373 - val_accuracy: 0.5714\n",
      "Epoch 55/100\n",
      "1/1 [==============================] - 0s 167ms/step - loss: 0.1880 - accuracy: 0.9091 - val_loss: 1.5854 - val_accuracy: 0.5714\n",
      "Epoch 56/100\n",
      "1/1 [==============================] - 0s 159ms/step - loss: 0.0989 - accuracy: 0.9545 - val_loss: 1.6188 - val_accuracy: 0.5714\n",
      "Epoch 57/100\n",
      "1/1 [==============================] - 0s 160ms/step - loss: 0.0929 - accuracy: 1.0000 - val_loss: 1.6523 - val_accuracy: 0.5714\n",
      "Epoch 58/100\n",
      "1/1 [==============================] - 0s 153ms/step - loss: 0.1474 - accuracy: 0.9545 - val_loss: 1.6755 - val_accuracy: 0.5714\n",
      "Epoch 59/100\n",
      "1/1 [==============================] - 0s 171ms/step - loss: 0.1138 - accuracy: 0.9545 - val_loss: 1.6775 - val_accuracy: 0.5714\n",
      "Epoch 60/100\n",
      "1/1 [==============================] - 0s 156ms/step - loss: 0.1696 - accuracy: 0.9091 - val_loss: 1.6915 - val_accuracy: 0.5714\n",
      "Epoch 61/100\n",
      "1/1 [==============================] - 0s 164ms/step - loss: 0.1291 - accuracy: 0.9545 - val_loss: 1.7202 - val_accuracy: 0.5714\n",
      "Epoch 62/100\n",
      "1/1 [==============================] - 0s 163ms/step - loss: 0.1929 - accuracy: 0.9091 - val_loss: 1.7909 - val_accuracy: 0.5714\n",
      "Epoch 63/100\n",
      "1/1 [==============================] - 0s 158ms/step - loss: 0.1321 - accuracy: 0.9545 - val_loss: 2.0034 - val_accuracy: 0.5714\n",
      "Epoch 64/100\n",
      "1/1 [==============================] - 0s 160ms/step - loss: 0.0611 - accuracy: 1.0000 - val_loss: 2.2658 - val_accuracy: 0.4286\n",
      "Epoch 65/100\n",
      "1/1 [==============================] - 0s 148ms/step - loss: 0.1227 - accuracy: 0.9545 - val_loss: 2.3470 - val_accuracy: 0.4286\n",
      "Epoch 66/100\n",
      "1/1 [==============================] - 0s 150ms/step - loss: 0.0987 - accuracy: 0.9545 - val_loss: 2.3274 - val_accuracy: 0.4286\n",
      "Epoch 67/100\n",
      "1/1 [==============================] - 0s 150ms/step - loss: 0.1269 - accuracy: 0.9091 - val_loss: 2.2787 - val_accuracy: 0.5714\n",
      "Epoch 68/100\n",
      "1/1 [==============================] - 0s 207ms/step - loss: 0.0472 - accuracy: 1.0000 - val_loss: 2.2328 - val_accuracy: 0.5714\n",
      "Epoch 69/100\n",
      "1/1 [==============================] - 0s 161ms/step - loss: 0.1136 - accuracy: 0.9545 - val_loss: 2.2899 - val_accuracy: 0.5714\n",
      "Epoch 70/100\n",
      "1/1 [==============================] - 0s 153ms/step - loss: 0.0768 - accuracy: 0.9545 - val_loss: 2.3377 - val_accuracy: 0.5714\n",
      "Epoch 71/100\n",
      "1/1 [==============================] - 0s 163ms/step - loss: 0.0434 - accuracy: 1.0000 - val_loss: 2.4704 - val_accuracy: 0.4286\n",
      "Epoch 72/100\n",
      "1/1 [==============================] - 0s 178ms/step - loss: 0.0689 - accuracy: 1.0000 - val_loss: 2.7163 - val_accuracy: 0.4286\n",
      "Epoch 73/100\n",
      "1/1 [==============================] - 0s 164ms/step - loss: 0.1328 - accuracy: 0.9545 - val_loss: 2.8457 - val_accuracy: 0.4286\n",
      "Epoch 74/100\n",
      "1/1 [==============================] - 0s 156ms/step - loss: 0.1609 - accuracy: 0.9091 - val_loss: 3.0277 - val_accuracy: 0.4286\n",
      "Epoch 75/100\n",
      "1/1 [==============================] - 0s 191ms/step - loss: 0.2040 - accuracy: 0.9545 - val_loss: 2.6062 - val_accuracy: 0.4286\n",
      "Epoch 76/100\n",
      "1/1 [==============================] - 0s 172ms/step - loss: 0.0816 - accuracy: 1.0000 - val_loss: 2.4562 - val_accuracy: 0.5714\n",
      "Epoch 77/100\n",
      "1/1 [==============================] - 0s 192ms/step - loss: 0.0705 - accuracy: 0.9545 - val_loss: 2.4297 - val_accuracy: 0.5714\n",
      "Epoch 78/100\n",
      "1/1 [==============================] - 0s 166ms/step - loss: 0.0871 - accuracy: 0.9545 - val_loss: 2.5957 - val_accuracy: 0.4286\n",
      "Epoch 79/100\n",
      "1/1 [==============================] - 0s 188ms/step - loss: 0.0518 - accuracy: 0.9545 - val_loss: 2.8838 - val_accuracy: 0.4286\n",
      "Epoch 80/100\n",
      "1/1 [==============================] - 0s 193ms/step - loss: 0.0413 - accuracy: 1.0000 - val_loss: 3.1246 - val_accuracy: 0.4286\n",
      "Epoch 81/100\n",
      "1/1 [==============================] - 0s 179ms/step - loss: 0.2156 - accuracy: 0.9091 - val_loss: 3.0844 - val_accuracy: 0.4286\n",
      "Epoch 82/100\n",
      "1/1 [==============================] - 0s 185ms/step - loss: 0.1042 - accuracy: 0.9545 - val_loss: 2.7747 - val_accuracy: 0.4286\n",
      "Epoch 83/100\n",
      "1/1 [==============================] - 0s 210ms/step - loss: 0.0660 - accuracy: 0.9545 - val_loss: 2.5085 - val_accuracy: 0.5714\n",
      "Epoch 84/100\n",
      "1/1 [==============================] - 0s 180ms/step - loss: 0.0652 - accuracy: 0.9545 - val_loss: 2.4598 - val_accuracy: 0.5714\n",
      "Epoch 85/100\n",
      "1/1 [==============================] - 0s 164ms/step - loss: 0.0880 - accuracy: 0.9545 - val_loss: 2.5037 - val_accuracy: 0.4286\n",
      "Epoch 86/100\n",
      "1/1 [==============================] - 0s 179ms/step - loss: 0.0709 - accuracy: 0.9545 - val_loss: 2.7083 - val_accuracy: 0.4286\n",
      "Epoch 87/100\n",
      "1/1 [==============================] - 0s 170ms/step - loss: 0.0768 - accuracy: 0.9545 - val_loss: 2.8518 - val_accuracy: 0.4286\n",
      "Epoch 88/100\n",
      "1/1 [==============================] - 0s 172ms/step - loss: 0.0244 - accuracy: 1.0000 - val_loss: 2.9277 - val_accuracy: 0.4286\n",
      "Epoch 89/100\n",
      "1/1 [==============================] - 0s 168ms/step - loss: 0.1474 - accuracy: 0.9545 - val_loss: 2.7098 - val_accuracy: 0.4286\n",
      "Epoch 90/100\n",
      "1/1 [==============================] - 0s 160ms/step - loss: 0.1673 - accuracy: 0.9091 - val_loss: 2.6121 - val_accuracy: 0.5714\n",
      "Epoch 91/100\n",
      "1/1 [==============================] - 0s 168ms/step - loss: 0.0815 - accuracy: 0.9545 - val_loss: 2.4807 - val_accuracy: 0.5714\n",
      "Epoch 92/100\n",
      "1/1 [==============================] - 0s 164ms/step - loss: 0.2022 - accuracy: 0.9545 - val_loss: 2.5067 - val_accuracy: 0.5714\n",
      "Epoch 93/100\n",
      "1/1 [==============================] - 0s 166ms/step - loss: 0.1128 - accuracy: 0.9091 - val_loss: 2.4796 - val_accuracy: 0.4286\n",
      "Epoch 94/100\n",
      "1/1 [==============================] - 0s 147ms/step - loss: 0.1460 - accuracy: 0.9545 - val_loss: 2.5917 - val_accuracy: 0.5714\n",
      "Epoch 95/100\n",
      "1/1 [==============================] - 0s 157ms/step - loss: 0.0476 - accuracy: 1.0000 - val_loss: 2.6461 - val_accuracy: 0.4286\n",
      "Epoch 96/100\n",
      "1/1 [==============================] - 0s 164ms/step - loss: 0.0831 - accuracy: 0.9545 - val_loss: 2.8129 - val_accuracy: 0.4286\n",
      "Epoch 97/100\n",
      "1/1 [==============================] - 0s 178ms/step - loss: 0.0525 - accuracy: 1.0000 - val_loss: 2.9888 - val_accuracy: 0.4286\n",
      "Epoch 98/100\n",
      "1/1 [==============================] - 0s 176ms/step - loss: 0.1035 - accuracy: 1.0000 - val_loss: 2.8600 - val_accuracy: 0.4286\n",
      "Epoch 99/100\n",
      "1/1 [==============================] - 0s 165ms/step - loss: 0.1150 - accuracy: 0.9545 - val_loss: 2.5830 - val_accuracy: 0.5714\n",
      "Epoch 100/100\n",
      "1/1 [==============================] - 0s 163ms/step - loss: 0.0767 - accuracy: 0.9545 - val_loss: 2.4295 - val_accuracy: 0.5714\n"
     ]
    }
   ],
   "source": [
    "history=classifier.fit_generator(training_set, steps_per_epoch=None, epochs=100, verbose=1, callbacks=None, validation_data=test_set, validation_steps=None, class_weight=None, max_queue_size=10, workers=1, use_multiprocessing=False, shuffle=True, initial_epoch=0)\n",
    "     "
   ]
  },
  {
   "cell_type": "code",
   "execution_count": 8,
   "metadata": {},
   "outputs": [
    {
     "data": {
      "text/plain": [
       "dict_keys(['loss', 'accuracy', 'val_loss', 'val_accuracy'])"
      ]
     },
     "execution_count": 8,
     "metadata": {},
     "output_type": "execute_result"
    }
   ],
   "source": [
    "history.history.keys()"
   ]
  },
  {
   "cell_type": "code",
   "execution_count": 9,
   "metadata": {},
   "outputs": [
    {
     "data": {
      "image/png": "[encoded data removed]",
      "text/plain": [
       "<Figure size 640x480 with 1 Axes>"
      ]
     },
     "metadata": {},
     "output_type": "display_data"
    }
   ],
   "source": [
    "import matplotlib.pyplot as plt\n",
    "plt.plot(history.history['accuracy'])\n",
    "plt.title('model accuracy')\n",
    "plt.ylabel('accuracy')\n",
    "plt.xlabel('epoch')\n",
    "plt.legend(['train'],loc='upper left')\n",
    "plt.show()"
   ]
  },
  {
   "cell_type": "code",
   "execution_count": 11,
   "metadata": {},
   "outputs": [
    {
     "data": {
      "image/png": "[encoded data removed]",
      "text/plain": [
       "<PIL.Image.Image image mode=RGB size=64x64>"
      ]
     },
     "execution_count": 11,
     "metadata": {},
     "output_type": "execute_result"
    }
   ],
   "source": [
    "import numpy as np\n",
    "import keras.utils as image\n",
    "test_image = image.load_img(\"C:/PROJECT/code/TestImages/img1.jpg\", target_size = (64, 64))\n",
    "test_image"
   ]
  },
  {
   "cell_type": "code",
   "execution_count": 12,
   "metadata": {},
   "outputs": [
    {
     "data": {
      "text/plain": [
       "array([[[[ 0.,  0.,  0.],\n",
       "         [18., 18., 18.],\n",
       "         [ 0.,  0.,  0.],\n",
       "         ...,\n",
       "         [ 0.,  0.,  0.],\n",
       "         [ 0.,  0.,  0.],\n",
       "         [ 0.,  0.,  0.]],\n",
       "\n",
       "        [[ 0.,  0.,  0.],\n",
       "         [ 0.,  0.,  0.],\n",
       "         [ 0.,  0.,  0.],\n",
       "         ...,\n",
       "         [ 0.,  0.,  0.],\n",
       "         [ 0.,  0.,  0.],\n",
       "         [ 0.,  0.,  0.]],\n",
       "\n",
       "        [[ 0.,  0.,  0.],\n",
       "         [ 0.,  0.,  0.],\n",
       "         [ 0.,  0.,  0.],\n",
       "         ...,\n",
       "         [ 0.,  0.,  0.],\n",
       "         [ 0.,  0.,  0.],\n",
       "         [ 0.,  0.,  0.]],\n",
       "\n",
       "        ...,\n",
       "\n",
       "        [[ 0.,  0.,  0.],\n",
       "         [ 0.,  0.,  0.],\n",
       "         [ 0.,  0.,  0.],\n",
       "         ...,\n",
       "         [ 0.,  0.,  0.],\n",
       "         [ 0.,  0.,  0.],\n",
       "         [ 0.,  0.,  0.]],\n",
       "\n",
       "        [[ 0.,  0.,  0.],\n",
       "         [ 0.,  0.,  0.],\n",
       "         [ 0.,  0.,  0.],\n",
       "         ...,\n",
       "         [ 0.,  0.,  0.],\n",
       "         [ 0.,  0.,  0.],\n",
       "         [ 0.,  0.,  0.]],\n",
       "\n",
       "        [[ 0.,  0.,  0.],\n",
       "         [ 0.,  0.,  0.],\n",
       "         [ 0.,  0.,  0.],\n",
       "         ...,\n",
       "         [ 0.,  0.,  0.],\n",
       "         [ 0.,  0.,  0.],\n",
       "         [ 0.,  0.,  0.]]]], dtype=float32)"
      ]
     },
     "execution_count": 12,
     "metadata": {},
     "output_type": "execute_result"
    }
   ],
   "source": [
    "test_image = image.img_to_array(test_image)\n",
    "\n",
    "test_image = np.expand_dims(test_image, axis = 0)\n",
    "test_image"
   ]
  },
  {
   "cell_type": "code",
   "execution_count": 13,
   "metadata": {},
   "outputs": [
    {
     "name": "stdout",
     "output_type": "stream",
     "text": [
      "1/1 [==============================] - 0s 182ms/step\n"
     ]
    },
    {
     "data": {
      "text/plain": [
       "array([[0.]], dtype=float32)"
      ]
     },
     "execution_count": 13,
     "metadata": {},
     "output_type": "execute_result"
    }
   ],
   "source": [
    "result = classifier.predict(test_image)\n",
    "result"
   ]
  },
  {
   "cell_type": "code",
   "execution_count": 14,
   "metadata": {},
   "outputs": [
    {
     "data": {
      "text/plain": [
       "{'Benign': 0, 'Malignant': 1}"
      ]
     },
     "execution_count": 14,
     "metadata": {},
     "output_type": "execute_result"
    }
   ],
   "source": [
    "training_set.class_indices"
   ]
  },
  {
   "cell_type": "code",
   "execution_count": 15,
   "metadata": {},
   "outputs": [
    {
     "name": "stdout",
     "output_type": "stream",
     "text": [
      "Detected tumor type is Benign\n"
     ]
    }
   ],
   "source": [
    "if result[0][0] == 0:\n",
    "    prediction = 'Benign'\n",
    "else:\n",
    "    prediction = 'Malignent'\n",
    "print(\"Detected tumor type is %s\"%prediction)\n"
   ]
  }
 ],
 "metadata": {
  "kernelspec": {
   "display_name": "Python 3",
   "language": "python",
   "name": "python3"
  },
  "language_info": {
   "codemirror_mode": {
    "name": "ipython",
    "version": 3
   },
   "file_extension": ".py",
   "mimetype": "text/x-python",
   "name": "python",
   "nbconvert_exporter": "python",
   "pygments_lexer": "ipython3",
   "version": "3.10.9"
  }
 },
 "nbformat": 4,
 "nbformat_minor": 2
}
